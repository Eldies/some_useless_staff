{
 "cells": [
  {
   "cell_type": "code",
   "execution_count": 1,
   "metadata": {},
   "outputs": [],
   "source": [
    "import math\n",
    "import itertools\n",
    "from decimal import Decimal as _Decimal, localcontext\n",
    "from functools import total_ordering "
   ]
  },
  {
   "cell_type": "markdown",
   "metadata": {},
   "source": [
    "### Вычисления непосредственно с числами"
   ]
  },
  {
   "cell_type": "code",
   "execution_count": 2,
   "metadata": {},
   "outputs": [],
   "source": [
    "# моя оболочка над decimal.Decimal, чтобы не терять точность при расчетах, без явного указания сколько значащих цифр в числах\n",
    "@total_ordering\n",
    "class Decimal:\n",
    "    def __init__(self, value):\n",
    "        if isinstance(value, Decimal):\n",
    "            self._value = value._value\n",
    "        else:\n",
    "            self._value = _Decimal(value)\n",
    "\n",
    "    def __add__(self, other):\n",
    "        other = Decimal(other)\n",
    "        digits_after_point = max([- self._value.as_tuple().exponent, - other._value.as_tuple().exponent, 0])\n",
    "        digits_before_point = max([self._value.adjusted() + 1, other._value.adjusted() + 1, 0])\n",
    "        with localcontext() as ctx:\n",
    "            ctx.prec = digits_after_point + digits_before_point + 1\n",
    "            return Decimal(self._value + other._value)\n",
    "\n",
    "    def __sub__(self, other):\n",
    "        other = Decimal(other)\n",
    "        digits_after_point = max([- self._value.as_tuple().exponent, - other._value.as_tuple().exponent, 0])\n",
    "        digits_before_point = max([self._value.adjusted() + 1, other._value.adjusted() + 1, 0])\n",
    "        with localcontext() as ctx:\n",
    "            ctx.prec = digits_after_point + digits_before_point + 1\n",
    "            return Decimal(self._value - other._value)\n",
    "\n",
    "    def __mul__(self, other):\n",
    "        other = Decimal(other)\n",
    "        with localcontext() as ctx:\n",
    "            ctx.prec = len(self._value.as_tuple().digits) + len(other._value.as_tuple().digits) + 1\n",
    "            return Decimal(self._value * other._value)\n",
    "\n",
    "    def divide(self, other, precision=0.001):\n",
    "        other = Decimal(other)\n",
    "        with localcontext() as ctx:\n",
    "            ctx.prec = len(self._value.as_tuple().digits) + len(other._value.as_tuple().digits) - min([precision._value.adjusted(), 0])\n",
    "            return Decimal(self._value / other._value)        \n",
    "        \n",
    "    def __repr__(self):\n",
    "        with localcontext() as ctx:\n",
    "            ctx.prec = len(self._value.as_tuple().digits) + 2\n",
    "            return('{}'.format(self._value.normalize()))\n",
    "    \n",
    "    def sqrt(self, precision):\n",
    "        with localcontext() as ctx:\n",
    "            ctx.prec = 3 - min([precision._value.adjusted(), 0])\n",
    "            return Decimal(self._value.sqrt())\n",
    "    \n",
    "    def get_value_with_precision(self, precision):\n",
    "        assert precision > 0\n",
    "        precision = Decimal(precision)\n",
    "        digits_after_point = - min([precision._value.adjusted(), 0])\n",
    "        digits_before_point = max([self._value.adjusted() + 1, 0])\n",
    "        with localcontext() as ctx:\n",
    "            ctx.prec = digits_after_point + digits_before_point + 1\n",
    "            return Decimal(self._value + 0) \n",
    "    \n",
    "    def get_value_with_digits(self, number_of_digits):\n",
    "        with localcontext() as ctx:\n",
    "            ctx.prec = number_of_digits\n",
    "            return Decimal(self._value + 0)         \n",
    "    \n",
    "    def order(self):\n",
    "        return self._value.adjusted()\n",
    "    \n",
    "    def shift(self, val):\n",
    "        return self * (_Decimal(10) ** val)\n",
    "    \n",
    "    def __abs__(self):\n",
    "        return Decimal(abs(self._value))\n",
    "    \n",
    "    def __lt__(self, other):\n",
    "        other = Decimal(other)        \n",
    "        return self._value < other._value\n",
    "\n",
    "    def __eq__(self, other):\n",
    "        other = Decimal(other)        \n",
    "        return self._value == other._value\n",
    "    \n",
    "    def __int__(self):\n",
    "        return int(self._value)\n",
    "    "
   ]
  },
  {
   "cell_type": "markdown",
   "metadata": {},
   "source": [
    "Базовый класс"
   ]
  },
  {
   "cell_type": "code",
   "execution_count": 3,
   "metadata": {},
   "outputs": [],
   "source": [
    "class Node:\n",
    "    def __init__(self, *children):\n",
    "        for child in children:\n",
    "            assert isinstance(child, Node)\n",
    "        self._children = children\n",
    "        self._params = {}"
   ]
  },
  {
   "cell_type": "markdown",
   "metadata": {},
   "source": [
    "### Базовая арифметика\n",
    "\n",
    "Заводим базовые классы - класс для представления вещественного числа (RealNumber), классы для базовых операций.\n",
    "\n",
    "У каждого наследника RealNumber должен быть определен метод get_value_with_precision(precision), который должен вернуть число в его десятичном представлении, с погрешностью не более precision.\n",
    "\n",
    "Класс Multiply работает только для положительных чисел.\n",
    "Класс Divide не делит на числа, близкие к нулю.\n"
   ]
  },
  {
   "cell_type": "code",
   "execution_count": 4,
   "metadata": {},
   "outputs": [],
   "source": [
    "class RealNumber(Node):\n",
    "    def get_value_with_precision(self, precision):\n",
    "        raise NotImplementedError()\n",
    "        \n",
    "    def __add__(self, other):\n",
    "        if isinstance(other, (int, float, Decimal)):\n",
    "            other = RealNumberExact(other)\n",
    "        if isinstance(self, RealNumberExact) and isinstance(other, RealNumberExact):\n",
    "            return RealNumberExact(self._params['value'] + other._params['value'])\n",
    "        return Sum(self, other)\n",
    "    \n",
    "    def __sub__(self, other):\n",
    "        if isinstance(other, (int, float, Decimal)):\n",
    "            other = RealNumberExact(other)\n",
    "        if isinstance(self, RealNumberExact) and isinstance(other, RealNumberExact):\n",
    "            return RealNumberExact(self._params['value'] - other._params['value'])\n",
    "        return Subtract(self, other)\n",
    "    \n",
    "    def __mul__(self, other):\n",
    "        if isinstance(other, (int, float, Decimal)):\n",
    "            other = RealNumberExact(other)\n",
    "        if isinstance(self, RealNumberExact) and isinstance(other, RealNumberExact):\n",
    "            return RealNumberExact(self._params['value'] * other._params['value'])\n",
    "        return Multiply(self, other)\n",
    "\n",
    "    def __truediv__(self, other):\n",
    "        if isinstance(other, (int, float, Decimal)):\n",
    "            other = RealNumberExact(other)\n",
    "        if isinstance(self, Divide) and isinstance(other, RealNumberExact):\n",
    "            return Divide(self._children[0], self._children[1] * other)\n",
    "        return Divide(self, other)\n",
    "    \n",
    "    def __repr__(self):\n",
    "        raise NotImplementedError()        \n",
    "\n",
    "    \n",
    "@total_ordering\n",
    "class RealNumberExact(RealNumber):\n",
    "    def __init__(self, value):\n",
    "        assert isinstance(value, (int, float, Decimal))\n",
    "        super(RealNumberExact, self).__init__()\n",
    "        self._params['value'] = Decimal(value)\n",
    "        \n",
    "    def get_value_with_precision(self, precision):\n",
    "        assert precision > 0\n",
    "        return self._params['value'].get_value_with_precision(precision)\n",
    "\n",
    "    def __lt__(self, other):\n",
    "        other = other if isinstance(other, RealNumberExact) else RealNumberExact(other)        \n",
    "        return self._params['value'] < other._params['value']\n",
    "\n",
    "    def __eq__(self, other):\n",
    "        other = other if isinstance(other, RealNumberExact) else RealNumberExact(other)        \n",
    "        return self._params['value'] == other._params['value'] \n",
    "\n",
    "    def __repr__(self):\n",
    "        return '{}'.format(self._params['value'])\n",
    "\n",
    "    \n",
    "class RealNumberFunctionOfRealNumbers(RealNumber):\n",
    "    def __init__(self, *args):\n",
    "        def _prepare_arg(arg):\n",
    "            if isinstance(arg, (int, float, Decimal)):\n",
    "                arg = RealNumberExact(arg)\n",
    "            assert isinstance(arg, RealNumber), '{} is not RealNumber. Type: {}'.format(arg, type(arg))\n",
    "            return arg\n",
    "            \n",
    "        super(RealNumberFunctionOfRealNumbers, self).__init__(*[_prepare_arg(arg) for arg in args])\n",
    "        \n",
    "    def __repr__(self):\n",
    "        return '{}<{}>'.format(self.__class__.__name__, ', '.join(map(str, self._children)))\n",
    "    \n",
    "    \n",
    "class BinaryOpOnRealNumber(RealNumberFunctionOfRealNumbers):\n",
    "    def __init__(self, left, right):\n",
    "        super(BinaryOpOnRealNumber, self).__init__(left, right)\n",
    "\n",
    "        \n",
    "class Sum(BinaryOpOnRealNumber):\n",
    "    def get_value_with_precision(self, precision):\n",
    "        assert precision > 0\n",
    "        precision = Decimal(precision)\n",
    "        left_value = self._children[0].get_value_with_precision(precision * Decimal(0.5))\n",
    "        right_value = self._children[1].get_value_with_precision(precision * Decimal(0.5))\n",
    "        return (left_value + right_value).get_value_with_precision(precision)\n",
    "    \n",
    "    \n",
    "class Subtract(BinaryOpOnRealNumber):\n",
    "    def get_value_with_precision(self, precision):\n",
    "        assert precision > 0\n",
    "        precision = Decimal(precision)\n",
    "        left_value = self._children[0].get_value_with_precision(precision * Decimal(0.5))\n",
    "        right_value = self._children[1].get_value_with_precision(precision * Decimal(0.5))\n",
    "        return (left_value - right_value).get_value_with_precision(precision)\n",
    "    \n",
    "    \n",
    "class Multiply(BinaryOpOnRealNumber):\n",
    "    def get_value_with_precision(self, precision):\n",
    "        assert precision > 0\n",
    "        precision = Decimal(precision)\n",
    "        # Мне лень делать общий случай умножения, поэтому перемножать можно только положительные числа\n",
    "        # за то, чтобы числа были положительны - отвечает пользователь\n",
    "        # если передать сюда не положительные числа - точность не гарантируется\n",
    "        left_max = self._children[0].get_value_with_precision(precision) + precision\n",
    "        right_max = self._children[1].get_value_with_precision(precision) + precision\n",
    "        \n",
    "        left_precision = precision.shift(-(right_max * 3).order() - 1)\n",
    "        right_precision = precision.shift(-(left_max * 3).order() - 1)\n",
    "        \n",
    "        def max_error():\n",
    "            max_left_error = left_precision\n",
    "            max_right_error = right_precision\n",
    "            return left_max*max_right_error + right_max*max_left_error + max_right_error*max_left_error\n",
    "            \n",
    "        while max_error() >= precision:\n",
    "            left_precision = left_precision.shift(-1)\n",
    "            right_precision = right_precision.shift(-1)\n",
    "\n",
    "        left = self._children[0].get_value_with_precision(left_precision)\n",
    "        right = self._children[1].get_value_with_precision(right_precision)\n",
    "        return (left * right).get_value_with_precision(precision)\n",
    "    \n",
    "    \n",
    "class Divide(BinaryOpOnRealNumber):\n",
    "    def _compute_result_range(self, divisor, divisor_precision, divisible, divisible_precision):\n",
    "        # считает промежуток, в котором может находиться результат деления\n",
    "        assert abs(divisor) > divisor_precision\n",
    "        list_of_borders = [\n",
    "            _divisible.divide(_divisor, precision=divisor_precision*divisible_precision)\n",
    "            for _divisor in (divisor - divisor_precision, divisor + divisor_precision)\n",
    "            for _divisible in (divisible - divisible_precision, divisible + divisible_precision)\n",
    "        ]\n",
    "        return (min(list_of_borders), max(list_of_borders))\n",
    "    \n",
    "    def _compute_max_result_error(self, divisor, divisor_precision, divisible, divisible_precision, result):\n",
    "        result_range = self._compute_result_range(divisor, divisor_precision, divisible, divisible_precision)\n",
    "        assert result_range[0] <= result <= result_range[1]\n",
    "        return max(result_range[1] - result, result - result_range[0])\n",
    "        \n",
    "    def _get_divisor_precision_where_divisor_cant_be_0(self, precision):\n",
    "        divisor = self._children[1].get_value_with_precision(precision)\n",
    "        while (divisor - precision) * (divisor + precision) <= precision * precision:\n",
    "            precision = precision.shift(-1)\n",
    "            assert precision > 1e-300, \"Вы делите на что-то, слишком близкое к 0. Не надо так\"\n",
    "            divisor = self._children[1].get_value_with_precision(precision)\n",
    "        return divisor, precision\n",
    "\n",
    "    def get_value_with_precision(self, precision):\n",
    "        assert precision > 0\n",
    "        precision = Decimal(precision)\n",
    "        divisor, divisor_precision = self._get_divisor_precision_where_divisor_cant_be_0(precision)\n",
    "        divisible_precision = precision * min(abs(divisor - precision), abs(divisor + precision)) * 0.5\n",
    "        divisible = self._children[0].get_value_with_precision(divisible_precision)\n",
    "        \n",
    "        result = divisible.divide(divisor, precision=divisor_precision*divisible_precision)\n",
    "        max_error = self._compute_max_result_error(divisor, divisor_precision, divisible, divisible_precision, result)\n",
    "        while max_error > precision:\n",
    "            divisor_precision = divisor_precision.shift(-1)\n",
    "            divisible_precision = divisible_precision.shift(-1)\n",
    "            divisor = self._children[1].get_value_with_precision(divisor_precision)\n",
    "            divisible = self._children[0].get_value_with_precision(divisible_precision)\n",
    "            result = divisible.divide(divisor, precision=divisor_precision*divisible_precision)\n",
    "            max_error = self._compute_max_result_error(divisor, divisor_precision, divisible, divisible_precision, result)\n",
    "        \n",
    "        return result"
   ]
  },
  {
   "cell_type": "markdown",
   "metadata": {},
   "source": [
    "### Работа с бесконечными последовательностями\n",
    "Класс для бесконечной последовательности"
   ]
  },
  {
   "cell_type": "code",
   "execution_count": 5,
   "metadata": {},
   "outputs": [],
   "source": [
    "class InfiniteSequence(Node):\n",
    "    def __init__(self, generator):\n",
    "        super(InfiniteSequence, self).__init__()\n",
    "        self._params['generator'] = generator\n",
    "        \n",
    "    def first(self):\n",
    "        self._generator_state = self._params['generator']()\n",
    "        return self.next()\n",
    "    \n",
    "    def __iter__(self):\n",
    "        return iter(self._params['generator']())\n",
    "        \n",
    "    def __next__(self):\n",
    "        return self._generator_state.__next__()\n",
    "    next = __next__\n",
    "\n",
    "    def __repr__(self):\n",
    "        return 'InfiniteSequence<generator={}>'.format(self._params['generator'])"
   ]
  },
  {
   "cell_type": "markdown",
   "metadata": {},
   "source": [
    "\n",
    "Класс для представления бесконечной последовательности сходящихся интервалов. Интервалы представлены двумя числами - началом и концом. Каждый следующий интервал должен лежать внутри предыдущего и быть не менее чем в K раз меньше"
   ]
  },
  {
   "cell_type": "code",
   "execution_count": 6,
   "metadata": {},
   "outputs": [],
   "source": [
    "class ConvergingIntervalSequence(InfiniteSequence):\n",
    "    def __init__(self, generator, K):\n",
    "        assert K > 1\n",
    "        super(ConvergingIntervalSequence, self).__init__(generator)\n",
    "        self._params['K'] = K\n",
    "        \n",
    "    def __repr__(self):\n",
    "        return 'ConvergingIntervalSequence<generator={}, K={}>'.format(self._params['generator'], self._params['K'])"
   ]
  },
  {
   "cell_type": "code",
   "execution_count": 7,
   "metadata": {},
   "outputs": [
    {
     "name": "stdout",
     "output_type": "stream",
     "text": [
      "ConvergingIntervalSequence<generator=<function test_generator at 0x7ff7c841fd30>, K=2>\n",
      "(0, 0.5)\n",
      "(0, 0.25)\n",
      "(0, 0.125)\n",
      "(0, 0.0625)\n",
      "(0, 0.03125)\n",
      "(0, 0.015625)\n"
     ]
    }
   ],
   "source": [
    "def test_generator():\n",
    "    right_border = RealNumberExact(0.5)\n",
    "    for i in itertools.count(start=0):\n",
    "        yield (RealNumberExact(0), right_border)\n",
    "        right_border = right_border * 0.5\n",
    "\n",
    "sequence = ConvergingIntervalSequence(test_generator, 2)\n",
    "print(sequence)\n",
    "for i, interval in enumerate(sequence):\n",
    "    print((interval[0].get_value_with_precision(1e-10), interval[1].get_value_with_precision(1e-10)))\n",
    "    if i >= 5:\n",
    "        break"
   ]
  },
  {
   "cell_type": "markdown",
   "metadata": {},
   "source": [
    "И класс для представления предела такой последовательности"
   ]
  },
  {
   "cell_type": "code",
   "execution_count": 8,
   "metadata": {},
   "outputs": [],
   "source": [
    "class ConvergingIntervalSequenceLimit(RealNumber):\n",
    "    def __init__(self, sequence):\n",
    "        assert isinstance(sequence, ConvergingIntervalSequence)\n",
    "        super(ConvergingIntervalSequenceLimit, self).__init__(sequence)\n",
    "        \n",
    "    def get_value_with_precision(self, precision):\n",
    "        assert precision > 0\n",
    "        precision = Decimal(precision)\n",
    "        sequence = self._children[0]\n",
    "        interval = sequence.first()\n",
    "        while (interval[1] - interval[0]).get_value_with_precision(precision) > precision:\n",
    "            interval = sequence.next()\n",
    "            \n",
    "        return ((interval[0] + interval[1]) * 0.5).get_value_with_precision(precision)\n",
    "    \n",
    "    def __repr__(self):\n",
    "        return 'ConvergingIntervalSequenceLimit<{}>'.format(self._children[0])"
   ]
  },
  {
   "cell_type": "code",
   "execution_count": 9,
   "metadata": {},
   "outputs": [
    {
     "name": "stdout",
     "output_type": "stream",
     "text": [
      "ConvergingIntervalSequenceLimit<ConvergingIntervalSequence<generator=<function test_generator at 0x7ff7cb71d550>, K=2>>\n",
      "precision: 0.1\tvalue: 0.031\n",
      "precision: 0.001\tvalue: 0.0004883\n",
      "precision: 1e-07\tvalue: 2.98023224E-8\n",
      "precision: 1e-69\tvalue: 2.8978173052245479576029181730840933698184099834045242206664367647793604E-70\n"
     ]
    }
   ],
   "source": [
    "def test_generator():\n",
    "    right_border = RealNumberExact(0.5)\n",
    "    for i in itertools.count(start=0):\n",
    "        yield (RealNumberExact(0), right_border)\n",
    "        right_border = right_border * 0.5\n",
    "\n",
    "number = ConvergingIntervalSequenceLimit(ConvergingIntervalSequence(test_generator, 2))\n",
    "print(number)\n",
    "for precision in [0.1, 0.001, 0.0000001, 0.000000000000000000000000000000000000000000000000000000000000000000001]:\n",
    "    print(\"precision: {}\\tvalue: {}\".format(precision, number.get_value_with_precision(precision)))"
   ]
  },
  {
   "cell_type": "markdown",
   "metadata": {},
   "source": [
    "Можно применить это для, например, численного решения уравнений.\n",
    "\n",
    "Класс, который  для данной function и промежутка, на котором уравнение function(x)=0 имеет один корень, определяет число - корень уравнения.\n",
    "function должна быть монотонно возрастающей"
   ]
  },
  {
   "cell_type": "code",
   "execution_count": 10,
   "metadata": {},
   "outputs": [],
   "source": [
    "def _function_is_not_0_in_point_with_precision(function, point, precision):\n",
    "    function_value = function(point).get_value_with_precision(precision)\n",
    "    return abs(function_value) > precision\n",
    "\n",
    "def _function_differs_in_points_with_precision(function, first, second, precision):\n",
    "    first_function_value = function(first).get_value_with_precision(precision)\n",
    "    second_function_value = function(second).get_value_with_precision(precision)\n",
    "    return abs(second_function_value - first_function_value) > precision * 2\n",
    "\n",
    "class EquationRootSequence(ConvergingIntervalSequence):\n",
    "    def __init__(self, function, left, right):\n",
    "        super(EquationRootSequence, self).__init__(self._interval_generator, 2)\n",
    "        left = left if isinstance(left, RealNumber) else RealNumberExact(left)\n",
    "        right = right if isinstance(right, RealNumber) else RealNumberExact(right)\n",
    "        self._params['function'] = function\n",
    "        self._params['interval'] = (left, right)\n",
    "    \n",
    "    def _interval_generator(self):\n",
    "        left, right = self._params['interval']\n",
    "        # находим точность, достаточную чтобы считать значения function на концах промежутка\n",
    "        precision = Decimal(0.0625)\n",
    "        # если function не монотонно возрастает, тут может случиться бесконечный цикл\n",
    "        while not _function_differs_in_points_with_precision(self._params['function'], left, right, precision):\n",
    "            precision = precision * Decimal(0.5)\n",
    "        \n",
    "        while True:\n",
    "            yield left, right\n",
    "            \n",
    "            center = ((right + left) * 0.5)\n",
    "            left_quarter = ((left + center) * 0.5)\n",
    "            right_quarter = ((right + center) * 0.5)\n",
    "\n",
    "            # увеличиваем точность вычислений пока не случится одно из двух:\n",
    "            # 1) мы поймем, что function(center) точно не 0\n",
    "            # 2) мы поймем, что function(left_quarter) и function(right_quarter) точно не 0\n",
    "            # если function не монотонно возрастает, тут может случиться бесконечный цикл\n",
    "            while not (\n",
    "                _function_is_not_0_in_point_with_precision(self._params['function'], center, precision)\n",
    "                or (\n",
    "                    _function_is_not_0_in_point_with_precision(self._params['function'], right_quarter, precision)\n",
    "                    and _function_is_not_0_in_point_with_precision(self._params['function'], left_quarter, precision)\n",
    "                )\n",
    "            ):\n",
    "                precision = precision * Decimal(0.5)\n",
    "\n",
    "            center_function_value = self._params['function'](center).get_value_with_precision(precision)\n",
    "            # если function(center) точно не 0 - делаем center новой границей\n",
    "            if _function_is_not_0_in_point_with_precision(self._params['function'], center, precision):\n",
    "                if center_function_value > 0:\n",
    "                    right = center\n",
    "                else:\n",
    "                    left = center\n",
    "            # если function(center) похож на 0, а function(left_quarter) и function(right_quarter) точно не 0\n",
    "            # значит function(right_quarter) > 0, а function(left_quarter) < 0\n",
    "            # делаем их новыми границами\n",
    "            else:\n",
    "                left, right = left_quarter, right_quarter\n",
    "\n",
    "    def __repr__(self):\n",
    "        return 'EquationRootSequence<function={}, interval={}>'.format(self._params['function'], self._params['interval'])"
   ]
  },
  {
   "cell_type": "markdown",
   "metadata": {},
   "source": [
    "Можно посмотреть на начало последовательности для квадратного корня из 3"
   ]
  },
  {
   "cell_type": "code",
   "execution_count": 11,
   "metadata": {},
   "outputs": [
    {
     "name": "stdout",
     "output_type": "stream",
     "text": [
      "EquationRootSequence<function=<function <lambda> at 0x7ff7c8429d30>, interval=(1, 2)>\n",
      "(1, 2)\n",
      "(1.5, 2)\n",
      "(1.625, 1.875)\n",
      "(1.6875, 1.8125)\n",
      "(1.6875, 1.75)\n",
      "(1.71875, 1.75)\n",
      "(1.7265625, 1.7421875)\n",
      "(1.7265625, 1.734375)\n",
      "(1.73046875, 1.734375)\n",
      "(1.7314453125, 1.7333984375)\n",
      "(1.7314453125, 1.732421875)\n"
     ]
    }
   ],
   "source": [
    "sequence = EquationRootSequence(lambda x: x*x - 3, 1, 2)\n",
    "print(sequence)\n",
    "print(sequence.first())\n",
    "for _ in range(10):\n",
    "    print(sequence.next())"
   ]
  },
  {
   "cell_type": "markdown",
   "metadata": {},
   "source": [
    "И можно получить различные приближения числа"
   ]
  },
  {
   "cell_type": "code",
   "execution_count": 12,
   "metadata": {},
   "outputs": [
    {
     "name": "stdout",
     "output_type": "stream",
     "text": [
      "precision: 0.1\tvalue=1.72\terr=-0.012051\n",
      "precision: 0.001\tvalue=1.7319\terr=-0.00015081\n",
      "precision: 1e-07\tvalue=1.732050806\terr=-1.5689E-9\n",
      "precision: 1e-15\tvalue=1.7320508075688772\terr=-9.3527E-17\n",
      "precision: 1e-49\tvalue=1.73205080756887729352744634150587236694280525381037\terr=-1.0628E-50\n",
      "precision: 1e-200\tvalue=1.7320508075688772935274463415058723669428052538103806280558069794519330169088000370811461867572485756756261414154067030299699450949989524788116555120943736485280932319023055820679748201010846749232650143\terr=-1.0123E-201\n",
      "precision: 1E-1000\tvalue=1.73205080756887729352744634150587236694280525381038062805580697945193301690880003708114618675724857567562614141540670302996994509499895247881165551209437364852809323190230558206797482010108467492326501531234326690332288665067225466892183797122704713166036786158801904998653737985938946765034750657605075661834812960610094760218719032508314582952395983299778982450828871446383291734722416398458785539766795806381835366611084317378089437831610208830552490167002352071114428869599095636579708716849807289949329648428302078640860398873869753758231731783139599298300783870287705391336956331210370726401924910676823119928837564114142201674275210237299427083105989845947598766428889779614783795839022885485290357603385280806438197234466105968972287286526415382266469842002119548415527844118128653450703519165001668929441548084607127714399976292683462957743836189511012714863874697654598245178855097537901388066496191196222295711055524292372319219773826256163146884203285371668293864961191704973883639549593814\terr=-5.7577E-1002\n"
     ]
    }
   ],
   "source": [
    "sequence = EquationRootSequence(lambda x: x*x - 3, 1, 2)\n",
    "number = ConvergingIntervalSequenceLimit(sequence)\n",
    "true_value = Decimal(3).sqrt(precision=Decimal('1e-1500'))\n",
    "for precision in [0.1, 0.001, 0.0000001, 0.000000000000001, 1e-49, 1e-200, Decimal('1e-1000')]:\n",
    "    value = number.get_value_with_precision(precision)\n",
    "    err = (value - true_value).get_value_with_digits(5)\n",
    "    assert err < precision\n",
    "    print(\"precision: {}\\tvalue={}\\terr={}\".format(precision, value, err))"
   ]
  },
  {
   "cell_type": "markdown",
   "metadata": {},
   "source": [
    "Можно прямо сразу определить число - квадратный корень другого числа"
   ]
  },
  {
   "cell_type": "code",
   "execution_count": 13,
   "metadata": {},
   "outputs": [],
   "source": [
    "class SquareRoot(RealNumberFunctionOfRealNumbers):\n",
    "    def __init__(self, value):\n",
    "        assert value > 0\n",
    "        value = value if isinstance(value, RealNumber) else RealNumberExact(value)\n",
    "        super(SquareRoot, self).__init__(value)\n",
    "        \n",
    "    def get_value_with_precision(self, precision):\n",
    "        sequence = EquationRootSequence(lambda x: x*x - self._children[0], 0, self._children[0])\n",
    "        sequence_limit = ConvergingIntervalSequenceLimit(sequence)\n",
    "        return sequence_limit.get_value_with_precision(precision)\n",
    "    \n",
    "    def __repr__(self):\n",
    "        return 'SquareRoot<{}>'.format(self._children[0])"
   ]
  },
  {
   "cell_type": "code",
   "execution_count": 14,
   "metadata": {},
   "outputs": [
    {
     "name": "stdout",
     "output_type": "stream",
     "text": [
      "SquareRoot<7>\n",
      "precision: 0.1\tvalue=2.65\terr=0.0042487\n",
      "precision: 0.001\tvalue=2.6459\terr=0.00014869\n",
      "precision: 1e-07\tvalue=2.64575132\terr=8.9354E-9\n",
      "precision: 1e-15\tvalue=2.6457513110645908\terr=2.095E-16\n",
      "precision: 1e-49\tvalue=2.645751311064590590501615753639260425710259183082433\terr=-1.718E-50\n",
      "precision: 1e-200\tvalue=2.6457513110645905905016157536392604257102591830824501803683344592010688232302836277603928864745436106150645783384974630957435298886272147844273905558801077227171507297283238922996895948650872607009780532\terr=-1.0037E-201\n"
     ]
    }
   ],
   "source": [
    "number = SquareRoot(7)\n",
    "true_value = Decimal(7).sqrt(precision=Decimal('1e-1500'))\n",
    "print(number)\n",
    "for precision in [0.1, 0.001, 0.0000001, 0.000000000000001, 1e-49, 1e-200]:\n",
    "    value = number.get_value_with_precision(precision)\n",
    "    err = (value - true_value).get_value_with_digits(5)\n",
    "    assert err < precision\n",
    "    print(\"precision: {}\\tvalue={}\\terr={}\".format(precision, value, err))"
   ]
  },
  {
   "cell_type": "markdown",
   "metadata": {},
   "source": [
    "### Бесконечные последовательности чисел\n",
    "\n",
    "Можно напрограммировать бесконечную последовательность вещественных чисел"
   ]
  },
  {
   "cell_type": "code",
   "execution_count": 15,
   "metadata": {},
   "outputs": [
    {
     "name": "stdout",
     "output_type": "stream",
     "text": [
      "Divide<1, SquareRoot<1>>\n",
      "Divide<1, SquareRoot<2>> ~ 0.7071067811865475188016887242096981229060361862464483\n",
      "Divide<1, SquareRoot<3>> ~ 0.5773502691896257956849642276705832613965555987815\n",
      "Divide<1, SquareRoot<4>> ~ 0.5\n",
      "Divide<1, SquareRoot<5>> ~ 0.447213595499957958563669467492511325522061604848\n",
      "Divide<1, SquareRoot<6>> ~ 0.408248290463863016065761358235297130876435668741\n"
     ]
    }
   ],
   "source": [
    "def inverted_square_root_generator():\n",
    "    for i in itertools.count(start=1):\n",
    "        yield RealNumberExact(1) / SquareRoot(i)\n",
    "        \n",
    "sequence = InfiniteSequence(inverted_square_root_generator)\n",
    "print(sequence.first())\n",
    "for _ in range(5):\n",
    "    number = sequence.next()\n",
    "    print('{} ~ {}'.format(number, number.get_value_with_precision(1e-15)))"
   ]
  },
  {
   "cell_type": "markdown",
   "metadata": {},
   "source": [
    "### Диагональный процесс Кантора\n",
    "\n",
    "Заведем функцию, которая для данной бесконечной последовательности чисел возвращает бесконечную последовательность сходящихся интервалов\n"
   ]
  },
  {
   "cell_type": "code",
   "execution_count": 16,
   "metadata": {},
   "outputs": [],
   "source": [
    "def build_converging_intervals_for_number_sequence(number_sequence):\n",
    "    def _generator():\n",
    "        left = RealNumberExact(0)\n",
    "        right = RealNumberExact(1)\n",
    "        precision = Decimal(1)\n",
    "        for i, number in enumerate(number_sequence):\n",
    "            # удостоверяемся, что ошибка вычисления будет не более 1/16 от величины интервала\n",
    "            while (right - left).get_value_with_precision(precision) - precision <= precision * 16:\n",
    "                precision = precision * 0.125\n",
    "\n",
    "            # делим интервал на 8 равных частей\n",
    "            delimiter4 = (left + right) * 0.5\n",
    "            delimiter2 = (left + delimiter4) * 0.5\n",
    "            delimiter1 = (left + delimiter2) * 0.5\n",
    "            delimiter3 = (delimiter2 + delimiter4) * 0.5\n",
    "            delimiter6 = (delimiter4 + right) * 0.5\n",
    "            delimiter7 = (delimiter6 + right) * 0.5\n",
    "            delimiter5 = (delimiter4 + delimiter6) * 0.5\n",
    "\n",
    "            number_value = number.get_value_with_precision(precision)\n",
    "            center_value = delimiter4.get_value_with_precision(precision)\n",
    "\n",
    "            # выберем новый интервал так, чтобы i-тый интервал отстоял от i-того числа как минимум на (1/8)^(i+1)\n",
    "            if number_value < center_value:\n",
    "                # с учетом погрешности это означает, что number < delimiter5\n",
    "                left, right = delimiter6, delimiter7\n",
    "            else:\n",
    "                # с учетом погрешности это означает, что number > delimiter3\n",
    "                left, right = delimiter1, delimiter2\n",
    "\n",
    "            yield left, right\n",
    "\n",
    "    return ConvergingIntervalSequence(_generator, 8)"
   ]
  },
  {
   "cell_type": "markdown",
   "metadata": {},
   "source": [
    "Посмотрим на последовательность интервалов:"
   ]
  },
  {
   "cell_type": "code",
   "execution_count": 17,
   "metadata": {},
   "outputs": [
    {
     "name": "stdout",
     "output_type": "stream",
     "text": [
      "ConvergingIntervalSequence<generator=<function build_converging_intervals_for_number_sequence.<locals>._generator at 0x7ff7c8436f70>, K=8>\n",
      "(0.125, 0.25)\n",
      "(0.140625, 0.15625)\n",
      "(0.142578125, 0.14453125)\n",
      "(0.142822265625, 0.14306640625)\n",
      "(0.142852783203125, 0.14288330078125)\n",
      "(0.142856597900390625, 0.14286041259765625)\n"
     ]
    }
   ],
   "source": [
    "def inverted_square_root_generator():\n",
    "    for i in itertools.count(start=1):\n",
    "        yield RealNumberExact(1) / SquareRoot(i)\n",
    "        \n",
    "number_sequence = InfiniteSequence(inverted_square_root_generator)\n",
    "interval_sequence = build_converging_intervals_for_number_sequence(number_sequence)\n",
    "print(interval_sequence)\n",
    "for i, interval in enumerate(interval_sequence):\n",
    "    print((interval[0].get_value_with_precision(1e-20), interval[1].get_value_with_precision(1e-20)))\n",
    "    if i >= 5:\n",
    "        break"
   ]
  },
  {
   "cell_type": "markdown",
   "metadata": {},
   "source": [
    "И посмотрим на само число:"
   ]
  },
  {
   "cell_type": "code",
   "execution_count": 18,
   "metadata": {},
   "outputs": [
    {
     "name": "stdout",
     "output_type": "stream",
     "text": [
      "ConvergingIntervalSequenceLimit<ConvergingIntervalSequence<generator=<function build_converging_intervals_for_number_sequence.<locals>._generator at 0x7ff7c8436940>, K=8>>\n",
      "precision: 0.1\tvalue=0.15\n",
      "precision: 0.001\tvalue=0.1429\n",
      "precision: 1e-07\tvalue=0.142857164\n",
      "precision: 1e-15\tvalue=0.142857142857143\n",
      "precision: 1e-49\tvalue=0.142857142857142857142857142857142857142857174886814\n",
      "precision: 1e-200\tvalue=0.142857142857142857142857142857142857142857174886822041710104478256676189483797286405987242891789068732989346052367604248242319694587162562779017857142857142857142857142857142857142857142857142857142856\n"
     ]
    }
   ],
   "source": [
    "def inverted_square_root_generator():\n",
    "    for i in itertools.count(start=1):\n",
    "        yield RealNumberExact(1) / SquareRoot(i)\n",
    "        \n",
    "number_sequence = InfiniteSequence(inverted_square_root_generator)\n",
    "interval_sequence = build_converging_intervals_for_number_sequence(number_sequence)\n",
    "kantor_number = ConvergingIntervalSequenceLimit(interval_sequence)\n",
    "print(kantor_number)\n",
    "for precision in [0.1, 0.001, 0.0000001, 0.000000000000001, 1e-49, 1e-200]:\n",
    "    value = kantor_number.get_value_with_precision(precision)\n",
    "    print(\"precision: {}\\tvalue={}\".format(precision, value))"
   ]
  },
  {
   "cell_type": "markdown",
   "metadata": {},
   "source": [
    "И, как и с любым нормальным числом, с ним можно делать всякие вычисления:"
   ]
  },
  {
   "cell_type": "code",
   "execution_count": 19,
   "metadata": {},
   "outputs": [
    {
     "name": "stdout",
     "output_type": "stream",
     "text": [
      "Subtract<Multiply<Divide<Sum<ConvergingIntervalSequenceLimit<ConvergingIntervalSequence<generator=<function build_converging_intervals_for_number_sequence.<locals>._generator at 0x7ff7c8436940>, K=8>>, 1>, 2>, 3>, 4>\n",
      "-2.285714285714285714285714285714285714285714237669767\n"
     ]
    }
   ],
   "source": [
    "print(((((kantor_number + 1) / 2) * 3) - 4))\n",
    "print(((((kantor_number + 1) / 2) * 3) - 4).get_value_with_precision(1e-49))"
   ]
  },
  {
   "cell_type": "markdown",
   "metadata": {},
   "source": [
    "Можно запрограммировать последоватеьность, в которой будет это канторовское число."
   ]
  },
  {
   "cell_type": "code",
   "execution_count": 20,
   "metadata": {},
   "outputs": [
    {
     "name": "stdout",
     "output_type": "stream",
     "text": [
      "ConvergingIntervalSequenceLimit<ConvergingIntervalSequence<generator=<function build_converging_intervals_for_number_sequence.<locals>._generator at 0x7ff7c8429820>, K=8>>\n",
      "precision: 0.1\tvalue=0.15\n",
      "precision: 0.001\tvalue=0.1429\n",
      "precision: 1e-07\tvalue=0.143009752\n",
      "precision: 1e-15\tvalue=0.143009730747768\n",
      "precision: 1e-49\tvalue=0.143009730747767857142857142857142857142857174886814\n",
      "precision: 1e-200\tvalue=0.143009730747767857142857142857142857142857174886822041710104478256676189483797286405987242891789068732989346052367604248242319694587162562779017857142857142857142857142857142857142857142857142857142856\n"
     ]
    }
   ],
   "source": [
    "def some_other_generator():\n",
    "    for i in itertools.count(start=1):\n",
    "        if i == 5:\n",
    "            yield kantor_number\n",
    "        else:\n",
    "            yield RealNumberExact(1) / SquareRoot(i)\n",
    "        \n",
    "number_sequence = InfiniteSequence(some_other_generator)\n",
    "interval_sequence = build_converging_intervals_for_number_sequence(number_sequence)\n",
    "kantor_number2 = ConvergingIntervalSequenceLimit(interval_sequence)\n",
    "print(kantor_number2)\n",
    "for precision in [0.1, 0.001, 0.0000001, 0.000000000000001, 1e-49, 1e-200]:\n",
    "    value = kantor_number2.get_value_with_precision(precision)\n",
    "    print(\"precision: {}\\tvalue={}\".format(precision, value))"
   ]
  },
  {
   "cell_type": "markdown",
   "metadata": {},
   "source": [
    "Результат применения канторовской процедуры к новой последовательности будет, очевидно, отличаться:"
   ]
  },
  {
   "cell_type": "code",
   "execution_count": 21,
   "metadata": {},
   "outputs": [
    {
     "data": {
      "text/plain": [
       "-0.000152587890625"
      ]
     },
     "execution_count": 21,
     "metadata": {},
     "output_type": "execute_result"
    }
   ],
   "source": [
    "(kantor_number - kantor_number2).get_value_with_precision(1e-49)"
   ]
  },
  {
   "cell_type": "markdown",
   "metadata": {},
   "source": [
    "Получается, что для любой последовательности вещественных чисел, которую можно запрограммировать, можно построить вещественное число, которого в этой последовательности нет.\n",
    "\n",
    "То есть, биекцию между натуральными числами и вещественными нельзя запрограммировать."
   ]
  },
  {
   "cell_type": "code",
   "execution_count": null,
   "metadata": {},
   "outputs": [],
   "source": []
  }
 ],
 "metadata": {
  "kernelspec": {
   "display_name": "Python 3",
   "language": "python",
   "name": "python3"
  },
  "language_info": {
   "codemirror_mode": {
    "name": "ipython",
    "version": 3
   },
   "file_extension": ".py",
   "mimetype": "text/x-python",
   "name": "python",
   "nbconvert_exporter": "python",
   "pygments_lexer": "ipython3",
   "version": "3.8.3"
  }
 },
 "nbformat": 4,
 "nbformat_minor": 4
}
